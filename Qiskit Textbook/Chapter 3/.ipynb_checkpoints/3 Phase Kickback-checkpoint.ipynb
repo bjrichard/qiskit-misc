{
 "cells": [
  {
   "cell_type": "code",
   "execution_count": null,
   "id": "c22d2bea",
   "metadata": {},
   "outputs": [],
   "source": [
    "from qiskit import QuantumCircuit\n",
    "qc = QuantumCircuit(2)\n",
    "qc.cz(0,1)\n",
    "qc.draw(output=\"mpl\")"
   ]
  },
  {
   "cell_type": "code",
   "execution_count": 5,
   "id": "51b9046b",
   "metadata": {},
   "outputs": [],
   "source": [
    "from qiskit import QuantumCircuit\n",
    "import numpy as np\n",
    "\n",
    "def deutsch_problem(seed=None):\n",
    "    \"\"\"Returns a circuit that carries out the function\n",
    "    from Deutsch's problem.\n",
    "    Args:\n",
    "        seed (int): If set, then returned circuit will\n",
    "            always be the same for the same seed.\n",
    "    Returns: QuantumCircuit\n",
    "    \"\"\"\n",
    "    np.random.seed(seed)\n",
    "    problem = QuantumCircuit(2)\n",
    "    if np.random.randint(2):\n",
    "        print(\"Function is balanced.\")\n",
    "        problem.cx(0, 1)\n",
    "    else:\n",
    "        print(\"Function is constant.\")\n",
    "    if np.random.randint(2):\n",
    "        problem.x(1)\n",
    "    return problem\n",
    "def deutsch(function):\n",
    "    \"\"\"Implements Deutsch's algorithm.\n",
    "\n",
    "    Args:\n",
    "        function (QuantumCircuit): Deutsch function to solve.\n",
    "            Must be a 2-qubit circuit, and either balanced,\n",
    "            or constant.\n",
    "    Returns:\n",
    "        bool: True if the circuit is balanced, otherwise False.\n",
    "    \"\"\"\n",
    "\n",
    "    # your code here"
   ]
  }
 ],
 "metadata": {
  "kernelspec": {
   "display_name": "qc",
   "language": "python",
   "name": "qc"
  },
  "language_info": {
   "codemirror_mode": {
    "name": "ipython",
    "version": 3
   },
   "file_extension": ".py",
   "mimetype": "text/x-python",
   "name": "python",
   "nbconvert_exporter": "python",
   "pygments_lexer": "ipython3",
   "version": "3.10.0"
  }
 },
 "nbformat": 4,
 "nbformat_minor": 5
}
